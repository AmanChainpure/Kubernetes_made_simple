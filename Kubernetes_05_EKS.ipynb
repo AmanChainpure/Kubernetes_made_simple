{
 "cells": [
  {
   "cell_type": "markdown",
   "id": "9aad2bec",
   "metadata": {},
   "source": [
    "# EKS - Elastic Kubernetes Service (EKS)\n"
   ]
  },
  {
   "cell_type": "markdown",
   "id": "16f959ce",
   "metadata": {},
   "source": [
    "- You shouldn’t use Minikube in production.\n",
    "\n",
    "- As a part of learning, minikube is an essential step to learn kubernetes locally.\n",
    "\n",
    "- Minikube is limited to a single node (for now, anyway), and does not run the containers on the host, which results in inferior performance. Instead it uses a “hypervisor”, e.g. VirtualBox, VMware Fusion or KVM depending on the platform.\n",
    "\n",
    "- Besides, you lose out many of the benefits of Kubernetes if you run it in such a setup, including load-balancing.\n",
    "\n",
    "- If you’re looking for a low-maintenance setup, you’ve got plenty of options:\n",
    "\n",
    "1. GKE\n",
    "2. EKS \n",
    "3. AKS\n",
    "4. OpenShift"
   ]
  },
  {
   "cell_type": "markdown",
   "id": "b93420ab",
   "metadata": {},
   "source": [
    "### AWS EKS\n",
    "\n",
    "- Amazon Elastic Kubernetes Service (Amazon EKS) is a managed service that eliminates the need to install, operate, and maintain your own Kubernetes control plane on Amazon Web Services (AWS). \n",
    "- We can work with multiple worker nodes over here"
   ]
  },
  {
   "cell_type": "markdown",
   "id": "43556309",
   "metadata": {},
   "source": [
    "### key features of Amazon EKS:\n",
    "\n",
    "- Secure networking and authentication:\n",
    "\n",
    "Amazon EKS integrates your Kubernetes workloads with AWS networking and security services. It also integrates with AWS Identity and Access Management (IAM) to provide authentication for your Kubernetes clusters.\n",
    "\n",
    "- Easy cluster scaling: \n",
    "\n",
    "Amazon EKS enables you to scale your Kubernetes clusters up and down easily based on the demand of your workloads. Amazon EKS supports horizontal Pod autoscaling based on CPU or custom metrics, and cluster autoscaling based on the demand of the entire workload.\n",
    "\n",
    "- Managed Kubernetes experience:\n",
    "\n",
    "You can make changes to your Kubernetes clusters using eksctl, AWS Management Console, AWS Command Line Interface (AWS CLI), the API, kubectl, and Terraform.\n",
    "\n",
    "- High availability:\n",
    "\n",
    "Amazon EKS provides high availability for your control plane across multiple Availability Zones.\n",
    "\n",
    "- Integration with AWS services:\n",
    "\n",
    "Amazon EKS integrates with other AWS services, providing a comprehensive platform for deploying and managing your containerized applications. You can also more easily troubleshoot your Kubernetes workloads with various observability tools."
   ]
  },
  {
   "cell_type": "markdown",
   "id": "60be9dae",
   "metadata": {},
   "source": [
    "# EKS setup"
   ]
  },
  {
   "cell_type": "markdown",
   "id": "a792aa25",
   "metadata": {},
   "source": [
    "1. To access EKS from local you need AWS CLI\n",
    "\n",
    "2. download url >> https://aws.amazon.com/cli/ \n",
    "\n",
    "3. Check for the correct installation \n",
    "    C:\\Program Files\\Amazon\n",
    "    AWSCLIV2\n",
    "\n",
    "4. run the comand on cmd \n",
    "    aws --version"
   ]
  },
  {
   "cell_type": "markdown",
   "id": "2e7a01ef",
   "metadata": {},
   "source": [
    "# Get the Access key"
   ]
  },
  {
   "cell_type": "markdown",
   "id": "e92cb997",
   "metadata": {},
   "source": [
    "1. Go to IAM \n",
    "2. Click on users >>  Security crediatials\n",
    "3. Go to Access key and create one for CLI \n",
    "4. Finally downlo the access which required for the AWS CLI configuration "
   ]
  },
  {
   "cell_type": "markdown",
   "id": "a8948255",
   "metadata": {},
   "source": [
    "# AWS CLI Configuration"
   ]
  },
  {
   "cell_type": "markdown",
   "id": "06590920",
   "metadata": {},
   "source": [
    "to configure the AWS CLI use below command \n",
    "\n",
    "AWS configure \n",
    "\n",
    "use the values from access kye which you have downloaded from previous \n",
    "1. Access Key ID >> csv file \n",
    "2. Access Secret Key >> csv file\n",
    "3. region  >> us-east-1\n",
    "4. output format >> json"
   ]
  },
  {
   "cell_type": "markdown",
   "id": "3bc4621e",
   "metadata": {},
   "source": [
    "kubectl >> k8s\n",
    "eksctl >> EKS"
   ]
  },
  {
   "cell_type": "markdown",
   "id": "01c2821c",
   "metadata": {},
   "source": [
    "## Installation\n",
    "\n",
    "1. open powersahell from administrator access \n",
    "2. run belwo command to install eksctl \n",
    "\n",
    "choco install -y eksctl\n",
    "\n",
    "Note: you might get error for choco, resolve that using stackoverflow.\n"
   ]
  },
  {
   "cell_type": "code",
   "execution_count": null,
   "id": "80db1c00",
   "metadata": {},
   "outputs": [],
   "source": []
  }
 ],
 "metadata": {
  "kernelspec": {
   "display_name": "Python 3",
   "language": "python",
   "name": "python3"
  },
  "language_info": {
   "codemirror_mode": {
    "name": "ipython",
    "version": 3
   },
   "file_extension": ".py",
   "mimetype": "text/x-python",
   "name": "python",
   "nbconvert_exporter": "python",
   "pygments_lexer": "ipython3",
   "version": "3.10.9"
  }
 },
 "nbformat": 4,
 "nbformat_minor": 5
}
