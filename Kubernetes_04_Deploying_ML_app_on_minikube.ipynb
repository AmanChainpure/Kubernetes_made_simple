{
 "cells": [
  {
   "cell_type": "code",
   "execution_count": null,
   "id": "5f34bece",
   "metadata": {},
   "outputs": [],
   "source": [
    "Flask good for poc\n",
    "Client server deployment gunicorn\n",
    "\n",
    "\n",
    "deployment creates:\n",
    "    \n",
    "pod\n",
    "service clusterip\n",
    "deployment\n",
    "replica\n",
    "\n",
    "service creates services u provided: here loadbalancer"
   ]
  },
  {
   "cell_type": "code",
   "execution_count": null,
   "id": "f2084ef9",
   "metadata": {},
   "outputs": [],
   "source": [
    "   1 docker build -t aman1511/ins:v1 .\n",
    "   2 docker images\n",
    "   3 docker run -it -p 8000:9696 aman1511/ins:v1\n",
    "   4 docker push aman1511/ins:v1\n",
    "   5 minikube start\n",
    "   6 minikube status\n",
    "   7 kubectl get all\n",
    "   8 kubectl apply -f deployment.yaml\n",
    "   9 kubectl get all\n",
    "  10 kubectl get pods\n",
    "  11 kubectl apply -f service.yaml\n",
    "  12 kubectl get all\n",
    "  13 minikube service myapp-insurance\n",
    "  14 minikube service myapp-insurance\n"
   ]
  },
  {
   "cell_type": "code",
   "execution_count": null,
   "id": "f43d1825",
   "metadata": {},
   "outputs": [],
   "source": []
  },
  {
   "cell_type": "code",
   "execution_count": null,
   "id": "6352dd3b",
   "metadata": {},
   "outputs": [],
   "source": [
    "Now, even if you don't have the whole code, you will just need service.yaml an deplomwnt.yaml to get the code running\n",
    "\n",
    "kubectl apply -f deployment.yaml \n",
    "kubectl apply -f service.yaml\n",
    "\n",
    "kubectl get all >> show all the objects \n",
    "\n",
    "minikube service myapp-insurance "
   ]
  },
  {
   "cell_type": "code",
   "execution_count": null,
   "id": "0febb9fd",
   "metadata": {},
   "outputs": [],
   "source": [
    "why cloud preferred over open src"
   ]
  },
  {
   "cell_type": "code",
   "execution_count": null,
   "id": "783e3ce8",
   "metadata": {},
   "outputs": [],
   "source": []
  }
 ],
 "metadata": {
  "kernelspec": {
   "display_name": "Python 3",
   "language": "python",
   "name": "python3"
  },
  "language_info": {
   "codemirror_mode": {
    "name": "ipython",
    "version": 3
   },
   "file_extension": ".py",
   "mimetype": "text/x-python",
   "name": "python",
   "nbconvert_exporter": "python",
   "pygments_lexer": "ipython3",
   "version": "3.10.9"
  }
 },
 "nbformat": 4,
 "nbformat_minor": 5
}
