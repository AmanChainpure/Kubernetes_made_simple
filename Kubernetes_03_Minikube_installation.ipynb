{
 "cells": [
  {
   "cell_type": "markdown",
   "id": "0c8e0fa5",
   "metadata": {},
   "source": [
    "## Minikube:\n",
    "\n",
    "Minikube is a lightweight Kubernetes implementation that creates a VM on your local machine and deploys a simple cluster containing only one node. Minikube is available for Linux, macOS, and Windows systems.\n",
    "\n",
    "## Why Minikube?\n",
    "\n",
    "- If you Want to test Kubernetes without the effort of setting up a complex, production-grade cluster? If so, Minikube is a great solution. \n",
    "- This tool provides an easy means of creating a local Kubernetes environment on any Linux, Mac, or Windows system, where you can experiment with and test Kubernetes deployments."
   ]
  },
  {
   "cell_type": "markdown",
   "id": "85fed152",
   "metadata": {},
   "source": [
    "# Minikube Installation\n",
    "\n",
    "https://minikube.sigs.k8s.io/docs/start/\n",
    "\n",
    "Pre requisites \n",
    "\n",
    "1. Make Sure docker desktop is running  \n",
    "2. Open powershell with admin "
   ]
  },
  {
   "cell_type": "markdown",
   "id": "0d8b3ab9",
   "metadata": {},
   "source": [
    "## Commands\n",
    "\n",
    "1. docker images\n",
    "2. minikube start\n",
    "3. minikube status\n",
    "4. docker context use default\n",
    "5. minikube status\n",
    "6. minikube\n",
    "7. minikube profile list\n",
    "8. minikube start --kubernetes-version=v1.25.3 --driver=docker --profile minipod\n",
    "9. minikube profile list\n",
    "10. minikube stop -p minipod\n",
    "11. minikube profile list\n",
    "12. minikube start -p minipod\n",
    "13. minikube profile minipod\n",
    "14. minikube profile list\n",
    "15. minikube ip\n",
    "16. minikube ip -p minikube\n",
    "17. minikube profile minikube\n",
    "18. minikube profile list\n",
    "19. minikube delete minipod\n",
    "20. minikube profile list\n",
    "21. minikube profile minipod\n",
    "22. minikube profile list\n",
    "23. minikube delete\n",
    "24. minikube profile list\n",
    "25. kubectl config view\n",
    "26. minikube stop\n",
    "27. kubectl cluster-info\n",
    "28. minikube start\n",
    "29. kubectl cluster-info\n",
    "30. kubectl\n",
    "31. minikube addons\n",
    "32. minikube addons list\n",
    "33. minikube addons enable dashboard\n",
    "34. minikube addons enable metrics-server\n",
    "35. minikube addons list\n",
    "36. minikube dashboard.\n",
    "37. kubectl proxy"
   ]
  },
  {
   "cell_type": "code",
   "execution_count": null,
   "id": "8bd466c0",
   "metadata": {},
   "outputs": [],
   "source": []
  },
  {
   "cell_type": "code",
   "execution_count": null,
   "id": "0ae467ce",
   "metadata": {},
   "outputs": [],
   "source": []
  },
  {
   "cell_type": "code",
   "execution_count": null,
   "id": "02a3593b",
   "metadata": {},
   "outputs": [],
   "source": []
  }
 ],
 "metadata": {
  "kernelspec": {
   "display_name": "Python 3",
   "language": "python",
   "name": "python3"
  },
  "language_info": {
   "codemirror_mode": {
    "name": "ipython",
    "version": 3
   },
   "file_extension": ".py",
   "mimetype": "text/x-python",
   "name": "python",
   "nbconvert_exporter": "python",
   "pygments_lexer": "ipython3",
   "version": "3.10.9"
  }
 },
 "nbformat": 4,
 "nbformat_minor": 5
}
